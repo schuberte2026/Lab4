{
 "cells": [
  {
   "cell_type": "code",
   "execution_count": 2,
   "metadata": {},
   "outputs": [],
   "source": [
    "import random"
   ]
  },
  {
   "cell_type": "code",
   "execution_count": 3,
   "metadata": {},
   "outputs": [],
   "source": [
    "def kth_smallest_num(nums, k):\n",
    "    \"\"\"Finds the kth smallest number.\n",
    "    \n",
    "        Parameters:\n",
    "        nums (list): The list of numbers to search through.\n",
    "        k (int): the index of the smallest number if the list was sorted.\n",
    "        \n",
    "        Returns:\n",
    "        num (float): The kth smallest number.\"\"\"\n",
    "    \n",
    "    split_index = partition(nums, 0, len(nums) - 1)\n",
    "\n",
    "    if (split_index == k):\n",
    "        return nums[split_index]\n",
    "    elif (split_index > k):\n",
    "        return kth_smallest_num(nums[0:split_index + 1], k)\n",
    "    elif (split_index < k):\n",
    "        return kth_smallest_num(nums[split_index + 1: len(nums)], k - split_index)\n",
    "    \n",
    "\n",
    "\n"
   ]
  },
  {
   "cell_type": "code",
   "execution_count": 37,
   "metadata": {},
   "outputs": [],
   "source": [
    "def partition(nums, start_index, end_index):\n",
    "    partitioner = 2 #nums[random.randint(0, len(nums) - 1)]\n",
    "    i = start_index - 1\n",
    "    j = end_index + 1\n",
    "    print(f\"Partitioner: {partitioner}\")\n",
    "    print(f\"j: {j}\")\n",
    "    print(f\"i: {i}\")\n",
    "    while True:\n",
    "        i = i + 1\n",
    "        j = j - 1\n",
    "        print(f\"i before while: {i}\")\n",
    "        while(nums[j] > partitioner):\n",
    "            j = j - 1\n",
    "        while(nums[i] < partitioner):\n",
    "            i = i + 1\n",
    "        if i < j:\n",
    "            print(\"Swapping\")\n",
    "            nums[i], nums[j] = nums[j], nums[i]\n",
    "        else:\n",
    "            print(f\"Nums: {nums}\")\n",
    "            return j"
   ]
  },
  {
   "cell_type": "code",
   "execution_count": 28,
   "metadata": {},
   "outputs": [],
   "source": [
    "def test_kth_smallest_num():\n",
    "    nums = [2,8,1,5]\n",
    "    k = 2\n",
    "    print(kth_smallest_num(nums, k))"
   ]
  },
  {
   "cell_type": "code",
   "execution_count": 38,
   "metadata": {},
   "outputs": [
    {
     "name": "stdout",
     "output_type": "stream",
     "text": [
      "Partitioner: 2\n",
      "j: 4\n",
      "i: -1\n",
      "i before while: 0\n",
      "Swapping\n",
      "i before while: 1\n",
      "Nums: [1, 8, 2, 5]\n",
      "Partitioner: 2\n",
      "j: 3\n",
      "i: -1\n",
      "i before while: 0\n",
      "Swapping\n",
      "i before while: 1\n",
      "Nums: [2, 8, 5]\n",
      "Partitioner: 2\n",
      "j: 2\n",
      "i: -1\n",
      "i before while: 0\n"
     ]
    },
    {
     "ename": "IndexError",
     "evalue": "list index out of range",
     "output_type": "error",
     "traceback": [
      "\u001b[1;31m---------------------------------------------------------------------------\u001b[0m",
      "\u001b[1;31mIndexError\u001b[0m                                Traceback (most recent call last)",
      "Cell \u001b[1;32mIn[38], line 1\u001b[0m\n\u001b[1;32m----> 1\u001b[0m test_kth_smallest_num()\n",
      "Cell \u001b[1;32mIn[28], line 4\u001b[0m, in \u001b[0;36mtest_kth_smallest_num\u001b[1;34m()\u001b[0m\n\u001b[0;32m      2\u001b[0m nums \u001b[38;5;241m=\u001b[39m [\u001b[38;5;241m2\u001b[39m,\u001b[38;5;241m8\u001b[39m,\u001b[38;5;241m1\u001b[39m,\u001b[38;5;241m5\u001b[39m]\n\u001b[0;32m      3\u001b[0m k \u001b[38;5;241m=\u001b[39m \u001b[38;5;241m2\u001b[39m\n\u001b[1;32m----> 4\u001b[0m \u001b[38;5;28mprint\u001b[39m(kth_smallest_num(nums, k))\n",
      "Cell \u001b[1;32mIn[3], line 18\u001b[0m, in \u001b[0;36mkth_smallest_num\u001b[1;34m(nums, k)\u001b[0m\n\u001b[0;32m     16\u001b[0m     \u001b[38;5;28;01mreturn\u001b[39;00m kth_smallest_num(nums[\u001b[38;5;241m0\u001b[39m:split_index \u001b[38;5;241m+\u001b[39m \u001b[38;5;241m1\u001b[39m], k)\n\u001b[0;32m     17\u001b[0m \u001b[38;5;28;01melif\u001b[39;00m (split_index \u001b[38;5;241m<\u001b[39m k):\n\u001b[1;32m---> 18\u001b[0m     \u001b[38;5;28;01mreturn\u001b[39;00m kth_smallest_num(nums[split_index \u001b[38;5;241m+\u001b[39m \u001b[38;5;241m1\u001b[39m: \u001b[38;5;28mlen\u001b[39m(nums)], k \u001b[38;5;241m-\u001b[39m split_index)\n",
      "Cell \u001b[1;32mIn[3], line 18\u001b[0m, in \u001b[0;36mkth_smallest_num\u001b[1;34m(nums, k)\u001b[0m\n\u001b[0;32m     16\u001b[0m     \u001b[38;5;28;01mreturn\u001b[39;00m kth_smallest_num(nums[\u001b[38;5;241m0\u001b[39m:split_index \u001b[38;5;241m+\u001b[39m \u001b[38;5;241m1\u001b[39m], k)\n\u001b[0;32m     17\u001b[0m \u001b[38;5;28;01melif\u001b[39;00m (split_index \u001b[38;5;241m<\u001b[39m k):\n\u001b[1;32m---> 18\u001b[0m     \u001b[38;5;28;01mreturn\u001b[39;00m kth_smallest_num(nums[split_index \u001b[38;5;241m+\u001b[39m \u001b[38;5;241m1\u001b[39m: \u001b[38;5;28mlen\u001b[39m(nums)], k \u001b[38;5;241m-\u001b[39m split_index)\n",
      "Cell \u001b[1;32mIn[3], line 11\u001b[0m, in \u001b[0;36mkth_smallest_num\u001b[1;34m(nums, k)\u001b[0m\n\u001b[0;32m      1\u001b[0m \u001b[38;5;28;01mdef\u001b[39;00m \u001b[38;5;21mkth_smallest_num\u001b[39m(nums, k):\n\u001b[0;32m      2\u001b[0m \u001b[38;5;250m    \u001b[39m\u001b[38;5;124;03m\"\"\"Finds the kth smallest number.\u001b[39;00m\n\u001b[0;32m      3\u001b[0m \u001b[38;5;124;03m    \u001b[39;00m\n\u001b[0;32m      4\u001b[0m \u001b[38;5;124;03m        Parameters:\u001b[39;00m\n\u001b[1;32m   (...)\u001b[0m\n\u001b[0;32m      8\u001b[0m \u001b[38;5;124;03m        Returns:\u001b[39;00m\n\u001b[0;32m      9\u001b[0m \u001b[38;5;124;03m        num (float): The kth smallest number.\"\"\"\u001b[39;00m\n\u001b[1;32m---> 11\u001b[0m     split_index \u001b[38;5;241m=\u001b[39m partition(nums, \u001b[38;5;241m0\u001b[39m, \u001b[38;5;28mlen\u001b[39m(nums) \u001b[38;5;241m-\u001b[39m \u001b[38;5;241m1\u001b[39m)\n\u001b[0;32m     13\u001b[0m     \u001b[38;5;28;01mif\u001b[39;00m (split_index \u001b[38;5;241m==\u001b[39m k):\n\u001b[0;32m     14\u001b[0m         \u001b[38;5;28;01mreturn\u001b[39;00m nums[split_index]\n",
      "Cell \u001b[1;32mIn[37], line 12\u001b[0m, in \u001b[0;36mpartition\u001b[1;34m(nums, start_index, end_index)\u001b[0m\n\u001b[0;32m     10\u001b[0m j \u001b[38;5;241m=\u001b[39m j \u001b[38;5;241m-\u001b[39m \u001b[38;5;241m1\u001b[39m\n\u001b[0;32m     11\u001b[0m \u001b[38;5;28mprint\u001b[39m(\u001b[38;5;124mf\u001b[39m\u001b[38;5;124m\"\u001b[39m\u001b[38;5;124mi before while: \u001b[39m\u001b[38;5;132;01m{\u001b[39;00mi\u001b[38;5;132;01m}\u001b[39;00m\u001b[38;5;124m\"\u001b[39m)\n\u001b[1;32m---> 12\u001b[0m \u001b[38;5;28;01mwhile\u001b[39;00m(nums[j] \u001b[38;5;241m>\u001b[39m partitioner):\n\u001b[0;32m     13\u001b[0m     j \u001b[38;5;241m=\u001b[39m j \u001b[38;5;241m-\u001b[39m \u001b[38;5;241m1\u001b[39m\n\u001b[0;32m     14\u001b[0m \u001b[38;5;28;01mwhile\u001b[39;00m(nums[i] \u001b[38;5;241m<\u001b[39m partitioner):\n",
      "\u001b[1;31mIndexError\u001b[0m: list index out of range"
     ]
    }
   ],
   "source": [
    "test_kth_smallest_num()"
   ]
  }
 ],
 "metadata": {
  "kernelspec": {
   "display_name": "base",
   "language": "python",
   "name": "python3"
  },
  "language_info": {
   "codemirror_mode": {
    "name": "ipython",
    "version": 3
   },
   "file_extension": ".py",
   "mimetype": "text/x-python",
   "name": "python",
   "nbconvert_exporter": "python",
   "pygments_lexer": "ipython3",
   "version": "3.12.4"
  }
 },
 "nbformat": 4,
 "nbformat_minor": 2
}
