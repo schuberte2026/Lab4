{
 "cells": [
  {
   "cell_type": "code",
   "execution_count": 1,
   "metadata": {},
   "outputs": [],
   "source": [
    "import random"
   ]
  },
  {
   "cell_type": "code",
   "execution_count": 2,
   "metadata": {},
   "outputs": [],
   "source": [
    "def kth_smallest_num(nums, k):\n",
    "    \"\"\"Finds the kth smallest number.\n",
    "    \n",
    "        Parameters:\n",
    "        nums (list): The list of numbers to search through.\n",
    "        k (int): the index of the smallest number if the list was sorted.\n",
    "        \n",
    "        Returns:\n",
    "        num (float): The kth smallest number.\"\"\"\n",
    "    split_index = partition(nums, 0, len(nums) - 1)\n",
    "\n",
    "    if (len(nums) == 1):\n",
    "        return nums[0]\n",
    "    elif (split_index >= k - 1):\n",
    "        return kth_smallest_num(nums[:split_index + 1], k) #recursively call left sub-array\n",
    "    elif (split_index < k - 1):\n",
    "        return kth_smallest_num(nums[split_index + 1:], k - split_index - 1) #recursively call right sub-array\n",
    "    \n",
    "\n",
    "\n"
   ]
  },
  {
   "cell_type": "code",
   "execution_count": 3,
   "metadata": {},
   "outputs": [],
   "source": [
    "def partition(nums, start_index, end_index):\n",
    "    randNum = random.randint(0, len(nums) - 1)\n",
    "    partitioner = nums[randNum]\n",
    "    nums[0], nums[randNum] = nums[randNum], nums[0]\n",
    "    i = start_index - 1\n",
    "    j = end_index + 1\n",
    "    while True:\n",
    "        i = i + 1\n",
    "        j = j - 1\n",
    "        while(nums[j] > partitioner): #keeps going to find value to the right of partitioner that is less than the partitioner\n",
    "            j = j - 1\n",
    "        while(nums[i] < partitioner): #keeps going to find value to the left of partitioner that is greater than the partitioner\n",
    "            i = i + 1\n",
    "        if i < j:\n",
    "            nums[i], nums[j] = nums[j], nums[i]\n",
    "        else: # partitioning is complete, returns the index that divides the list into two halves\n",
    "            return j"
   ]
  },
  {
   "cell_type": "code",
   "execution_count": 4,
   "metadata": {},
   "outputs": [],
   "source": [
    "def test_kth_smallest_num():\n",
    "    # k =1 means the smallest, k cannot have a value of 0.\n",
    "\n",
    "    #tests that it works on greatest value in array\n",
    "    nums = [5, 8, 12, 20, 7, 1, 3]\n",
    "    k = len(nums)\n",
    "    assert kth_smallest_num(nums, k) == 20\n",
    "\n",
    "    #tests that it works on an array with duplicate value\n",
    "    nums1 = [3,1,0,1]\n",
    "    k = 1 \n",
    "    assert kth_smallest_num(nums1, k) == 0\n",
    "    k = 2\n",
    "    assert kth_smallest_num(nums1, k) == 1\n",
    "    k = 3\n",
    "    assert kth_smallest_num(nums1, k ) == 1\n",
    "\n",
    "    #tests that it works with an array with only one element\n",
    "    nums2 = [0]\n",
    "    k = 1\n",
    "    assert kth_smallest_num(nums2, k) == 0\n",
    "    \n",
    "    #tests that it works on a duplicate greatest value in array\n",
    "    nums3 = [1,2,3,4,5,5]\n",
    "    k = len(nums3)\n",
    "    assert kth_smallest_num(nums3, k) == 5 "
   ]
  },
  {
   "cell_type": "code",
   "execution_count": 5,
   "metadata": {},
   "outputs": [],
   "source": [
    "test_kth_smallest_num()"
   ]
  },
  {
   "cell_type": "markdown",
   "metadata": {},
   "source": [
    "## Test Cases\n",
    "| Test Case                                    | Expected Answer | Answer from Algorithm |\n",
    "|----------------------------------------------|-----------------|-----------------------|\n",
    "| nums = [5, 8, 12, 20, 7, 1, 3] k = len(nums) | 20              | 20                    |\n",
    "| nums1 = [3,1,0,1] k = 1                      | 0               | 0                     |\n",
    "| nums1 = [3,1,0,1] k = 2                      | 1               | 1                     |\n",
    "| nums1 = [3,1,0,1] k = 3                      | 1               | 1                     |\n",
    "| nums2 = [0] k = 1                            | 0               | 0                     |\n",
    "| nums3 = [1, 2, 3, 4, 5, 5] k = len(nums3)    | 5               | 5                     |"
   ]
  },
  {
   "cell_type": "markdown",
   "metadata": {},
   "source": [
    "## Benchmarking"
   ]
  },
  {
   "cell_type": "code",
   "execution_count": 6,
   "metadata": {},
   "outputs": [],
   "source": [
    "import time\n",
    "import matplotlib.pyplot as plt"
   ]
  },
  {
   "cell_type": "code",
   "execution_count": 7,
   "metadata": {},
   "outputs": [],
   "source": [
    "def sort(nums, k):\n",
    "    nums.sort()\n",
    "    return nums[k - 1]"
   ]
  },
  {
   "cell_type": "code",
   "execution_count": 8,
   "metadata": {},
   "outputs": [],
   "source": [
    "def test_sort():\n",
    "    # k =1 means the smallest, k cannot have a value of 0.\n",
    "\n",
    "    #tests that it works on greatest value in array\n",
    "    nums = [5, 8, 12, 20, 7, 1, 3]\n",
    "    k = len(nums)\n",
    "    assert kth_smallest_num(nums, k) == 20\n",
    "\n",
    "    #tests that it works on an array with duplicate value\n",
    "    nums1 = [3,1,0,1]\n",
    "    k = 1 \n",
    "    assert kth_smallest_num(nums1, k) == 0\n",
    "    k = 2\n",
    "    assert kth_smallest_num(nums1, k) == 1\n",
    "    k = 3\n",
    "    assert kth_smallest_num(nums1, k ) == 1\n",
    "\n",
    "    #tests that it works with an array with only one element\n",
    "    nums2 = [0]\n",
    "    k = 1\n",
    "    assert kth_smallest_num(nums2, k) == 0\n",
    "    \n",
    "    #tests that it works on a duplicate greatest value in array\n",
    "    nums3 = [1,2,3,4,5,5]\n",
    "    k = len(nums3)\n",
    "    assert kth_smallest_num(nums3, k) == 5 "
   ]
  },
  {
   "cell_type": "code",
   "execution_count": 9,
   "metadata": {},
   "outputs": [],
   "source": [
    "test_sort()"
   ]
  },
  {
   "cell_type": "code",
   "execution_count": 10,
   "metadata": {},
   "outputs": [],
   "source": [
    "kth_smallest_times = []\n",
    "tim_sort_times = []\n",
    "list_sizes = [100000, 200000, 300000, 500000, 1000000, 2000000, 3000000, 5000000, 10000000]"
   ]
  },
  {
   "cell_type": "code",
   "execution_count": 11,
   "metadata": {},
   "outputs": [],
   "source": [
    "def generate_list(size):\n",
    "    return [random.randint(1, 100) for _ in range(size)]"
   ]
  },
  {
   "cell_type": "code",
   "execution_count": 12,
   "metadata": {},
   "outputs": [],
   "source": [
    "def benchmark_helper(method, input_list):\n",
    "    temp_list = input_list.copy()\n",
    "    start_time = time.perf_counter()\n",
    "    method(temp_list, k = 4)\n",
    "    end_time = time.perf_counter()\n",
    "    elapsed_time = end_time - start_time\n",
    "        \n",
    "    return elapsed_time"
   ]
  },
  {
   "cell_type": "code",
   "execution_count": 13,
   "metadata": {},
   "outputs": [],
   "source": [
    "def benchmark(method, list_sizes):\n",
    "    elapsed_times = []\n",
    "    \n",
    "    for size in list_sizes:\n",
    "        elapsed_times.append(benchmark_helper(method, generate_list(size)))\n",
    "        \n",
    "    return elapsed_times"
   ]
  },
  {
   "cell_type": "code",
   "execution_count": 14,
   "metadata": {},
   "outputs": [],
   "source": [
    "kth_smallest_num_times = benchmark(kth_smallest_num, list_sizes)\n",
    "tim_sort_times = benchmark(sort, list_sizes)"
   ]
  },
  {
   "cell_type": "code",
   "execution_count": 15,
   "metadata": {},
   "outputs": [
    {
     "data": {
      "image/png": "[encoded data removed]",
      "text/plain": [
       "<Figure size 640x480 with 1 Axes>"
      ]
     },
     "metadata": {},
     "output_type": "display_data"
    }
   ],
   "source": [
    "plt.plot(list_sizes, kth_smallest_num_times, label=\"K-th smallest num\")\n",
    "plt.plot(list_sizes, tim_sort_times, label=\"Tim Sort\")\n",
    "plt.xlabel(\"List Size\", fontsize=18)\n",
    "plt.ylabel(\"Run Time (s)\", fontsize=18)\n",
    "plt.title(\"Sorting Operations\", fontsize=20)\n",
    "plt.legend()\n",
    "plt.ticklabel_format(style='plain')\n",
    "plt.xticks(rotation = 45)\n",
    "plt.show()"
   ]
  },
  {
   "cell_type": "markdown",
   "metadata": {},
   "source": [
    "## Calculating Linear Regression"
   ]
  },
  {
   "cell_type": "code",
   "execution_count": null,
   "metadata": {},
   "outputs": [
    {
     "name": "stdout",
     "output_type": "stream",
     "text": [
      "Slope of the runtime for our K-th smallest number algorithm is: 0.9082783033510209 which is approximately linear.\n",
      "Slope of the runtime for the K-th smallest using Timsort sorting method is: 1.0387448514279327 which is approximately linear.\n"
     ]
    }
   ],
   "source": [
    "from scipy.stats import linregress\n",
    "import numpy as np\n",
    "m1, b1, _, _, _ = linregress(np.log(list_sizes), np.log(kth_smallest_num_times))\n",
    "m2, b2, _, _, _ = linregress(np.log(list_sizes), np.log(tim_sort_times))\n",
    "print(f\"Slope of the runtime for our K-th smallest number algorithm is: {m1} which is approximately linear.\")\n",
    "print(f\"Slope of the runtime for the K-th smallest using Timsort sorting method is: {m2} which is approximately linear.\")"
   ]
  }
 ],
 "metadata": {
  "kernelspec": {
   "display_name": "base",
   "language": "python",
   "name": "python3"
  },
  "language_info": {
   "codemirror_mode": {
    "name": "ipython",
    "version": 3
   },
   "file_extension": ".py",
   "mimetype": "text/x-python",
   "name": "python",
   "nbconvert_exporter": "python",
   "pygments_lexer": "ipython3",
   "version": "3.12.4"
  }
 },
 "nbformat": 4,
 "nbformat_minor": 2
}
