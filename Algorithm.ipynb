{
 "cells": [
  {
   "cell_type": "code",
   "execution_count": 1,
   "metadata": {},
   "outputs": [],
   "source": [
    "import random"
   ]
  },
  {
   "cell_type": "code",
   "execution_count": 2,
   "metadata": {},
   "outputs": [],
   "source": [
    "def kth_smallest_num(nums, k):\n",
    "    \"\"\"Finds the kth smallest number.\n",
    "    \n",
    "        Parameters:\n",
    "        nums (list): The list of numbers to search through.\n",
    "        k (int): the index of the smallest number if the list was sorted.\n",
    "        \n",
    "        Returns:\n",
    "        num (float): The kth smallest number.\"\"\"\n",
    "    print(f\"k: {k}\")\n",
    "    \n",
    "    \n",
    "    split_index = partition(nums, 0, len(nums) - 1)\n",
    "\n",
    "    \n",
    "    if (len(nums) == 1):\n",
    "        return nums[0]\n",
    "    elif (split_index >= k - 1):\n",
    "        print(2)\n",
    "        return kth_smallest_num(nums[:split_index + 1], k) #recursively call left sub-array\n",
    "    elif (split_index < k - 1):\n",
    "        print(3)\n",
    "        return kth_smallest_num(nums[split_index + 1:], k - split_index - 1) #recursively call right sub-array\n",
    "    \n",
    "\n",
    "\n"
   ]
  },
  {
   "cell_type": "code",
   "execution_count": 3,
   "metadata": {},
   "outputs": [],
   "source": [
    "def partition(nums, start_index, end_index):\n",
    "    randNum = random.randint(0, len(nums) - 1)\n",
    "    partitioner = nums[randNum]\n",
    "    nums[0], nums[randNum] = nums[randNum], nums[0]\n",
    "    i = start_index - 1\n",
    "    j = end_index + 1\n",
    "    print(f\"Partitioner: {partitioner}\")\n",
    "    print(f\"Nums: {nums}\")\n",
    "    while True:\n",
    "        i = i + 1\n",
    "        j = j - 1\n",
    "        #print(f\"i before while: {i}\")\n",
    "        while(nums[j] > partitioner): #keeps going to find value to the right of partitioner that is less than the partitioner\n",
    "            j = j - 1\n",
    "        while(nums[i] < partitioner): #keeps going to find value to the left of partitioner that is greater than the partitioner\n",
    "            i = i + 1\n",
    "        if i < j:\n",
    "            #print(\"Swapping\")\n",
    "            nums[i], nums[j] = nums[j], nums[i]\n",
    "        else: # partitioning is complete, returns the index that divides the list into two halves\n",
    "            print(f\"Nums: {nums}\")\n",
    "            print(f\"j: {j}\")\n",
    "            return j"
   ]
  },
  {
   "cell_type": "code",
   "execution_count": 4,
   "metadata": {},
   "outputs": [],
   "source": [
    "def test_kth_smallest_num():\n",
    "    nums = [5, 8, 12, 20, 7, 1, 3]\n",
    "    k = len(nums)\n",
    "    print(kth_smallest_num(nums, k))"
   ]
  },
  {
   "cell_type": "code",
   "execution_count": 5,
   "metadata": {},
   "outputs": [
    {
     "name": "stdout",
     "output_type": "stream",
     "text": [
      "k: 7\n",
      "Partitioner: 20\n",
      "Nums: [20, 8, 12, 5, 7, 1, 3]\n",
      "Nums: [3, 8, 12, 5, 7, 1, 20]\n",
      "j: 5\n",
      "3\n",
      "k: 1\n",
      "Partitioner: 20\n",
      "Nums: [20]\n",
      "Nums: [20]\n",
      "j: 0\n",
      "20\n"
     ]
    }
   ],
   "source": [
    "test_kth_smallest_num()"
   ]
  }
 ],
 "metadata": {
  "kernelspec": {
   "display_name": "Python 3",
   "language": "python",
   "name": "python3"
  },
  "language_info": {
   "codemirror_mode": {
    "name": "ipython",
    "version": 3
   },
   "file_extension": ".py",
   "mimetype": "text/x-python",
   "name": "python",
   "nbconvert_exporter": "python",
   "pygments_lexer": "ipython3",
   "version": "3.12.3"
  }
 },
 "nbformat": 4,
 "nbformat_minor": 2
}
